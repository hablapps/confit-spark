{
 "cells": [
  {
   "cell_type": "code",
   "execution_count": 8,
   "metadata": {},
   "outputs": [
    {
     "data": {
      "text/plain": [
       "\u001b[32mimport \u001b[39m\u001b[36m$ivy.$                                   //solo docker\u001b[39m"
      ]
     },
     "execution_count": 8,
     "metadata": {},
     "output_type": "execute_result"
    }
   ],
   "source": [
    "import $ivy.`org.apache.spark::spark-sql:3.2.0` //solo docker"
   ]
  },
  {
   "cell_type": "code",
   "execution_count": 9,
   "metadata": {},
   "outputs": [
    {
     "data": {
      "text/plain": [
       "\u001b[32mimport \u001b[39m\u001b[36morg.apache.spark.sql._\n",
       "\u001b[39m\n",
       "\u001b[32mimport \u001b[39m\u001b[36morg.apache.spark.sql.{functions => f} //TODOS\u001b[39m"
      ]
     },
     "execution_count": 9,
     "metadata": {},
     "output_type": "execute_result"
    }
   ],
   "source": [
    "import org.apache.spark.sql._\n",
    "import org.apache.spark.sql.{functions => f} //TODOS"
   ]
  },
  {
   "cell_type": "code",
   "execution_count": 10,
   "metadata": {},
   "outputs": [
    {
     "data": {
      "text/plain": [
       "\u001b[36mspark\u001b[39m: \u001b[32mSparkSession\u001b[39m = org.apache.spark.sql.SparkSession@4a89aee3\n",
       "\u001b[32mimport \u001b[39m\u001b[36mspark.implicits._\n",
       "\u001b[39m"
      ]
     },
     "execution_count": 10,
     "metadata": {},
     "output_type": "execute_result"
    }
   ],
   "source": [
    "val spark = SparkSession.builder // solo docker\n",
    "    .appName(\"course\")\n",
    "    .master(\"local[2]\")\n",
    "    .getOrCreate()\n",
    "\n",
    "spark.sparkContext.setLogLevel(\"ERROR\")\n",
    "import spark.implicits._\n"
   ]
  },
  {
   "cell_type": "code",
   "execution_count": 11,
   "metadata": {},
   "outputs": [],
   "source": [
    "spark.read\n",
    "    .option(\"header\", true)\n",
    "    .option(\"inferSchema\", \"true\")\n",
    "    .csv(\"NYPD_Complaint_Data_Historic.csv\")\n",
    "    .registerTempTable(\"complaints\")"
   ]
  },
  {
   "cell_type": "code",
   "execution_count": 12,
   "metadata": {},
   "outputs": [
    {
     "name": "stdout",
     "output_type": "stream",
     "text": [
      "+----------+------------+------------+------------+------------+----------+-----+--------------------+-----+--------------------+----------------+-----------+----------------+---------+-----------+-----------------+--------------------+--------+----------+----------+----------+------------+-------------+--------------------+\n",
      "|CMPLNT_NUM|CMPLNT_FR_DT|CMPLNT_FR_TM|CMPLNT_TO_DT|CMPLNT_TO_TM|    RPT_DT|KY_CD|           OFNS_DESC|PD_CD|             PD_DESC|CRM_ATPT_CPTD_CD| LAW_CAT_CD|      JURIS_DESC|  BORO_NM|ADDR_PCT_CD|LOC_OF_OCCUR_DESC|       PREM_TYP_DESC|PARKS_NM|HADEVELOPT|X_COORD_CD|Y_COORD_CD|    Latitude|    Longitude|             Lat_Lon|\n",
      "+----------+------------+------------+------------+------------+----------+-----+--------------------+-----+--------------------+----------------+-----------+----------------+---------+-----------+-----------------+--------------------+--------+----------+----------+----------+------------+-------------+--------------------+\n",
      "| 101109527|  12/31/2015|    23:45:00|        null|        null|12/31/2015|  113|             FORGERY|  729|FORGERY,ETC.,UNCL...|       COMPLETED|     FELONY|N.Y. POLICE DEPT|    BRONX|         44|           INSIDE|      BAR/NIGHT CLUB|    null|      null|   1007314|    241257|40.828848333|-73.916661142|(40.828848333, -7...|\n",
      "| 153401121|  12/31/2015|    23:36:00|        null|        null|12/31/2015|  101|MURDER & NON-NEGL...| null|                null|       COMPLETED|     FELONY|N.Y. POLICE DEPT|   QUEENS|        103|          OUTSIDE|                null|    null|      null|   1043991|    193406|40.697338138|-73.784556739|(40.697338138, -7...|\n",
      "| 569369778|  12/31/2015|    23:30:00|        null|        null|12/31/2015|  117|     DANGEROUS DRUGS|  503|CONTROLLED SUBSTA...|       COMPLETED|     FELONY|N.Y. POLICE DEPT|MANHATTAN|         28|             null|               OTHER|    null|      null|    999463|    231690|40.802606608|-73.945051911|(40.802606608, -7...|\n",
      "| 968417082|  12/31/2015|    23:30:00|        null|        null|12/31/2015|  344|ASSAULT 3 & RELAT...|  101|           ASSAULT 3|       COMPLETED|MISDEMEANOR|N.Y. POLICE DEPT|   QUEENS|        105|           INSIDE|     RESIDENCE-HOUSE|    null|      null|   1060183|    177862|40.654549444|-73.726338791|(40.654549444, -7...|\n",
      "| 641637920|  12/31/2015|    23:25:00|  12/31/2015|    23:30:00|12/31/2015|  344|ASSAULT 3 & RELAT...|  101|           ASSAULT 3|       COMPLETED|MISDEMEANOR|N.Y. POLICE DEPT|MANHATTAN|         13|         FRONT OF|               OTHER|    null|      null|    987606|    208148|  40.7380024| -73.98789129|(40.7380024, -73....|\n",
      "| 365661343|  12/31/2015|    23:18:00|  12/31/2015|    23:25:00|12/31/2015|  106|      FELONY ASSAULT|  109|ASSAULT 2,1,UNCLA...|       ATTEMPTED|     FELONY|N.Y. POLICE DEPT| BROOKLYN|         71|         FRONT OF|          DRUG STORE|    null|      null|    996149|    181562|40.665022689|-73.957110763|(40.665022689, -7...|\n",
      "| 608231454|  12/31/2015|    23:15:00|        null|        null|12/31/2015|  235|     DANGEROUS DRUGS|  511|CONTROLLED SUBSTA...|       COMPLETED|MISDEMEANOR|N.Y. POLICE DEPT|MANHATTAN|          7|      OPPOSITE OF|              STREET|    null|      null|    987373|    201662|40.720199996|-73.988735082|(40.720199996, -7...|\n",
      "| 265023856|  12/31/2015|    23:15:00|  12/31/2015|    23:15:00|12/31/2015|  118|   DANGEROUS WEAPONS|  792|WEAPONS POSSESSIO...|       COMPLETED|     FELONY|N.Y. POLICE DEPT|    BRONX|         46|         FRONT OF|              STREET|    null|      null|   1009041|    247401|40.845707148|-73.910398033|(40.845707148, -7...|\n",
      "| 989238731|  12/31/2015|    23:15:00|  12/31/2015|    23:30:00|12/31/2015|  344|ASSAULT 3 & RELAT...|  101|           ASSAULT 3|       COMPLETED|MISDEMEANOR|N.Y. POLICE DEPT|    BRONX|         48|           INSIDE|RESIDENCE - APT. ...|    null|      null|   1014154|    251416|40.856711291|-73.891899956|(40.856711291, -7...|\n",
      "| 415095955|  12/31/2015|    23:10:00|  12/31/2015|    23:10:00|12/31/2015|  341|       PETIT LARCENY|  338|LARCENY,PETIT FRO...|       COMPLETED|MISDEMEANOR|N.Y. POLICE DEPT|MANHATTAN|         19|           INSIDE|          DRUG STORE|    null|      null|    994327|    218211|40.765617688| -73.96362342|(40.765617688, -7...|\n",
      "+----------+------------+------------+------------+------------+----------+-----+--------------------+-----+--------------------+----------------+-----------+----------------+---------+-----------+-----------------+--------------------+--------+----------+----------+----------+------------+-------------+--------------------+\n",
      "\n"
     ]
    }
   ],
   "source": [
    "spark.sql(\"select * from complaints limit 10\").show()"
   ]
  },
  {
   "cell_type": "code",
   "execution_count": 14,
   "metadata": {},
   "outputs": [
    {
     "name": "stdout",
     "output_type": "stream",
     "text": [
      "+-------------+\n",
      "|      BORO_NM|\n",
      "+-------------+\n",
      "|       QUEENS|\n",
      "|     BROOKLYN|\n",
      "|        BRONX|\n",
      "|    MANHATTAN|\n",
      "|STATEN ISLAND|\n",
      "|         null|\n",
      "+-------------+\n",
      "\n"
     ]
    }
   ],
   "source": [
    "spark.sql(\"select distinct BORO_NM from complaints\").show()"
   ]
  },
  {
   "cell_type": "code",
   "execution_count": 17,
   "metadata": {},
   "outputs": [
    {
     "name": "stdout",
     "output_type": "stream",
     "text": [
      "+-------------+--------+\n",
      "|      BORO_NM|count(1)|\n",
      "+-------------+--------+\n",
      "|       QUEENS| 1105621|\n",
      "|     BROOKLYN| 1666903|\n",
      "|        BRONX| 1209647|\n",
      "|    MANHATTAN| 1331760|\n",
      "|STATEN ISLAND|  265641|\n",
      "|         null|     463|\n",
      "+-------------+--------+\n",
      "\n"
     ]
    }
   ],
   "source": [
    "spark.sql(\"select BORO_NM, count(*) from complaints group by BORO_NM\").show()"
   ]
  },
  {
   "cell_type": "code",
   "execution_count": 19,
   "metadata": {},
   "outputs": [
    {
     "name": "stdout",
     "output_type": "stream",
     "text": [
      "+--------+\n",
      "|count(1)|\n",
      "+--------+\n",
      "| 5580035|\n",
      "+--------+\n",
      "\n"
     ]
    }
   ],
   "source": [
    "spark.sql(\"select count(*) from complaints\").show()"
   ]
  },
  {
   "cell_type": "code",
   "execution_count": 20,
   "metadata": {},
   "outputs": [
    {
     "data": {
      "text/plain": [
       "\u001b[36mdf\u001b[39m: \u001b[32mDataFrame\u001b[39m = [CMPLNT_NUM: int, CMPLNT_FR_DT: string ... 22 more fields]"
      ]
     },
     "execution_count": 20,
     "metadata": {},
     "output_type": "execute_result"
    }
   ],
   "source": [
    "val df = spark.read\n",
    "    .option(\"header\", true)\n",
    "    .option(\"inferSchema\", \"true\")\n",
    "    .csv(\"NYPD_Complaint_Data_Historic.csv\")"
   ]
  },
  {
   "cell_type": "code",
   "execution_count": 21,
   "metadata": {},
   "outputs": [
    {
     "data": {
      "text/plain": [
       "\u001b[36mdf2\u001b[39m: \u001b[32mDataset\u001b[39m[\u001b[32mRow\u001b[39m] = [CMPLNT_NUM: int, CMPLNT_FR_DT: string ... 22 more fields]"
      ]
     },
     "execution_count": 21,
     "metadata": {},
     "output_type": "execute_result"
    }
   ],
   "source": [
    "val df2 = df.filter(\"BORO_NM = 'MANHATTAN'\")"
   ]
  },
  {
   "cell_type": "code",
   "execution_count": 22,
   "metadata": {},
   "outputs": [
    {
     "data": {
      "text/plain": [
       "\u001b[36mres21\u001b[39m: \u001b[32mLong\u001b[39m = \u001b[32m1331760L\u001b[39m"
      ]
     },
     "execution_count": 22,
     "metadata": {},
     "output_type": "execute_result"
    }
   ],
   "source": [
    "df2.count"
   ]
  },
  {
   "cell_type": "code",
   "execution_count": 23,
   "metadata": {},
   "outputs": [
    {
     "name": "stdout",
     "output_type": "stream",
     "text": [
      "+-------------+-------+\n",
      "|      BORO_NM|  count|\n",
      "+-------------+-------+\n",
      "|       QUEENS|1105621|\n",
      "|     BROOKLYN|1666903|\n",
      "|        BRONX|1209647|\n",
      "|    MANHATTAN|1331760|\n",
      "|STATEN ISLAND| 265641|\n",
      "|         null|    463|\n",
      "+-------------+-------+\n",
      "\n"
     ]
    }
   ],
   "source": [
    "df.groupBy(f.col(\"BORO_NM\")).count().show()"
   ]
  },
  {
   "cell_type": "code",
   "execution_count": 24,
   "metadata": {},
   "outputs": [
    {
     "name": "stdout",
     "output_type": "stream",
     "text": [
      "root\n",
      " |-- CMPLNT_NUM: integer (nullable = true)\n",
      " |-- CMPLNT_FR_DT: string (nullable = true)\n",
      " |-- CMPLNT_FR_TM: string (nullable = true)\n",
      " |-- CMPLNT_TO_DT: string (nullable = true)\n",
      " |-- CMPLNT_TO_TM: string (nullable = true)\n",
      " |-- RPT_DT: string (nullable = true)\n",
      " |-- KY_CD: integer (nullable = true)\n",
      " |-- OFNS_DESC: string (nullable = true)\n",
      " |-- PD_CD: integer (nullable = true)\n",
      " |-- PD_DESC: string (nullable = true)\n",
      " |-- CRM_ATPT_CPTD_CD: string (nullable = true)\n",
      " |-- LAW_CAT_CD: string (nullable = true)\n",
      " |-- JURIS_DESC: string (nullable = true)\n",
      " |-- BORO_NM: string (nullable = true)\n",
      " |-- ADDR_PCT_CD: integer (nullable = true)\n",
      " |-- LOC_OF_OCCUR_DESC: string (nullable = true)\n",
      " |-- PREM_TYP_DESC: string (nullable = true)\n",
      " |-- PARKS_NM: string (nullable = true)\n",
      " |-- HADEVELOPT: string (nullable = true)\n",
      " |-- X_COORD_CD: integer (nullable = true)\n",
      " |-- Y_COORD_CD: integer (nullable = true)\n",
      " |-- Latitude: double (nullable = true)\n",
      " |-- Longitude: double (nullable = true)\n",
      " |-- Lat_Lon: string (nullable = true)\n",
      "\n"
     ]
    }
   ],
   "source": [
    "df.printSchema"
   ]
  },
  {
   "cell_type": "code",
   "execution_count": 25,
   "metadata": {},
   "outputs": [
    {
     "name": "stdout",
     "output_type": "stream",
     "text": [
      "+--------------------+\n",
      "|          JURIS_DESC|\n",
      "+--------------------+\n",
      "|    N.Y. POLICE DEPT|\n",
      "|      PORT AUTHORITY|\n",
      "| N.Y. TRANSIT POLICE|\n",
      "|  HEALTH & HOSP CORP|\n",
      "|    U.S. PARK POLICE|\n",
      "|   N.Y. STATE POLICE|\n",
      "| N.Y. HOUSING POLICE|\n",
      "| TRI-BORO BRDG TUNNL|\n",
      "|         METRO NORTH|\n",
      "|    N.Y. STATE PARKS|\n",
      "|NEW YORK CITY SHE...|\n",
      "| DEPT OF CORRECTIONS|\n",
      "|NYS DEPT TAX AND ...|\n",
      "|               OTHER|\n",
      "|  LONG ISLAND RAILRD|\n",
      "|             AMTRACK|\n",
      "|STATN IS RAPID TRANS|\n",
      "|           NYC PARKS|\n",
      "|     POLICE DEPT NYC|\n",
      "|             CONRAIL|\n",
      "+--------------------+\n",
      "only showing top 20 rows\n",
      "\n"
     ]
    }
   ],
   "source": [
    "df.select(f.col(\"JURIS_DESC\")).distinct.show()"
   ]
  },
  {
   "cell_type": "code",
   "execution_count": 26,
   "metadata": {},
   "outputs": [
    {
     "name": "stdout",
     "output_type": "stream",
     "text": [
      "+--------------------+-------+\n",
      "|          JURIS_DESC|  count|\n",
      "+--------------------+-------+\n",
      "|    N.Y. POLICE DEPT|4960669|\n",
      "|      PORT AUTHORITY|  27089|\n",
      "| N.Y. TRANSIT POLICE| 120785|\n",
      "|  HEALTH & HOSP CORP|   2801|\n",
      "|    U.S. PARK POLICE|    206|\n",
      "|   N.Y. STATE POLICE|   1351|\n",
      "| N.Y. HOUSING POLICE| 428947|\n",
      "| TRI-BORO BRDG TUNNL|   4880|\n",
      "|         METRO NORTH|    595|\n",
      "|    N.Y. STATE PARKS|    320|\n",
      "|NEW YORK CITY SHE...|    164|\n",
      "| DEPT OF CORRECTIONS|   6515|\n",
      "|NYS DEPT TAX AND ...|     82|\n",
      "|               OTHER|  14964|\n",
      "|  LONG ISLAND RAILRD|    461|\n",
      "|             AMTRACK|    162|\n",
      "|STATN IS RAPID TRANS|    352|\n",
      "|           NYC PARKS|    131|\n",
      "|     POLICE DEPT NYC|   8987|\n",
      "|             CONRAIL|     14|\n",
      "+--------------------+-------+\n",
      "only showing top 20 rows\n",
      "\n"
     ]
    }
   ],
   "source": [
    "df.groupBy(f.col(\"JURIS_DESC\")).count.show()"
   ]
  },
  {
   "cell_type": "code",
   "execution_count": 28,
   "metadata": {},
   "outputs": [
    {
     "name": "stdout",
     "output_type": "stream",
     "text": [
      "+--------------------+-------+\n",
      "|          JURIS_DESC|  count|\n",
      "+--------------------+-------+\n",
      "|NYS DEPT ENVIRONM...|      1|\n",
      "|DISTRICT ATTORNEY...|      1|\n",
      "|             CONRAIL|     14|\n",
      "|NYC DEPT ENVIRONM...|     14|\n",
      "|SEA GATE POLICE DEPT|     30|\n",
      "|NYS DEPT TAX AND ...|     82|\n",
      "|           NYC PARKS|    131|\n",
      "|             AMTRACK|    162|\n",
      "|NEW YORK CITY SHE...|    164|\n",
      "|    U.S. PARK POLICE|    206|\n",
      "|    N.Y. STATE PARKS|    320|\n",
      "|STATN IS RAPID TRANS|    352|\n",
      "|  LONG ISLAND RAILRD|    461|\n",
      "|FIRE DEPT (FIRE M...|    514|\n",
      "|         METRO NORTH|    595|\n",
      "|   N.Y. STATE POLICE|   1351|\n",
      "|  HEALTH & HOSP CORP|   2801|\n",
      "| TRI-BORO BRDG TUNNL|   4880|\n",
      "| DEPT OF CORRECTIONS|   6515|\n",
      "|     POLICE DEPT NYC|   8987|\n",
      "|               OTHER|  14964|\n",
      "|      PORT AUTHORITY|  27089|\n",
      "| N.Y. TRANSIT POLICE| 120785|\n",
      "| N.Y. HOUSING POLICE| 428947|\n",
      "|    N.Y. POLICE DEPT|4960669|\n",
      "+--------------------+-------+\n",
      "\n"
     ]
    }
   ],
   "source": [
    "df.groupBy(f.col(\"JURIS_DESC\")).count.orderBy(\"count\").show(100)"
   ]
  },
  {
   "cell_type": "code",
   "execution_count": 29,
   "metadata": {},
   "outputs": [
    {
     "name": "stdout",
     "output_type": "stream",
     "text": [
      "+--------------------+-------+\n",
      "|          JURIS_DESC|  count|\n",
      "+--------------------+-------+\n",
      "|STATN IS RAPID TRANS|      1|\n",
      "|NYS DEPT ENVIRONM...|      1|\n",
      "|    U.S. PARK POLICE|      1|\n",
      "|SEA GATE POLICE DEPT|      1|\n",
      "|DISTRICT ATTORNEY...|      1|\n",
      "|NYC DEPT ENVIRONM...|      5|\n",
      "|             AMTRACK|      7|\n",
      "|             CONRAIL|     10|\n",
      "|           NYC PARKS|     11|\n",
      "|NYS DEPT TAX AND ...|     15|\n",
      "|NEW YORK CITY SHE...|     32|\n",
      "|      PORT AUTHORITY|     32|\n",
      "|    N.Y. STATE PARKS|     62|\n",
      "|         METRO NORTH|    126|\n",
      "|FIRE DEPT (FIRE M...|    165|\n",
      "|   N.Y. STATE POLICE|    216|\n",
      "|  HEALTH & HOSP CORP|    585|\n",
      "| TRI-BORO BRDG TUNNL|   1011|\n",
      "|     POLICE DEPT NYC|   3495|\n",
      "|               OTHER|   3967|\n",
      "| DEPT OF CORRECTIONS|   5627|\n",
      "| N.Y. TRANSIT POLICE|  17130|\n",
      "| N.Y. HOUSING POLICE| 116281|\n",
      "|    N.Y. POLICE DEPT|1060865|\n",
      "+--------------------+-------+\n",
      "\n"
     ]
    }
   ],
   "source": [
    "df.filter(f.col(\"BORO_NM\") === \"BRONX\").groupBy(f.col(\"JURIS_DESC\"))\n",
    ".count.orderBy(\"count\").show(100)"
   ]
  },
  {
   "cell_type": "code",
   "execution_count": 30,
   "metadata": {},
   "outputs": [
    {
     "data": {
      "text/plain": [
       "\u001b[36mpop\u001b[39m: \u001b[32mDataFrame\u001b[39m = [Borough: string, Population: int]"
      ]
     },
     "execution_count": 30,
     "metadata": {},
     "output_type": "execute_result"
    }
   ],
   "source": [
    "val pop = spark.read\n",
    "    .option(\"header\", true)\n",
    "    .option(\"inferSchema\", \"true\")\n",
    "    .csv(\"NYC_Population_by_Borough.csv\")"
   ]
  },
  {
   "cell_type": "code",
   "execution_count": 31,
   "metadata": {},
   "outputs": [
    {
     "name": "stdout",
     "output_type": "stream",
     "text": [
      "+-------------+----------+\n",
      "|      Borough|Population|\n",
      "+-------------+----------+\n",
      "|       QUEENS|   4460101|\n",
      "|     BROOKLYN|   4970026|\n",
      "|STATEN ISLAND|    912458|\n",
      "|    MANHATTAN|   3123068|\n",
      "|        BRONX|   2717758|\n",
      "+-------------+----------+\n",
      "\n"
     ]
    }
   ],
   "source": [
    "pop.show()"
   ]
  },
  {
   "cell_type": "code",
   "execution_count": 32,
   "metadata": {},
   "outputs": [
    {
     "name": "stdout",
     "output_type": "stream",
     "text": [
      "+-------------+--------+-----------------+-----------------+\n",
      "|      BORO_NM|count(1)|max(CMPLNT_FR_DT)|min(CMPLNT_FR_DT)|\n",
      "+-------------+--------+-----------------+-----------------+\n",
      "|         null|     463|       12/30/2005|       01/01/2002|\n",
      "|        BRONX| 1209647|       12/31/2016|       01/01/1974|\n",
      "|     BROOKLYN| 1666903|       12/31/2016|       01/01/1964|\n",
      "|    MANHATTAN| 1331760|       12/31/2016|       01/01/1972|\n",
      "|       QUEENS| 1105621|       12/31/2016|       01/01/1948|\n",
      "|STATEN ISLAND|  265641|       12/31/2016|       01/01/1970|\n",
      "+-------------+--------+-----------------+-----------------+\n",
      "\n"
     ]
    }
   ],
   "source": [
    "df.groupBy(f.col(\"BORO_NM\"))\n",
    ".agg(f.count(\"*\"), f.max(\"CMPLNT_FR_DT\"), f.min(\"CMPLNT_FR_DT\"))\n",
    ".show()"
   ]
  },
  {
   "cell_type": "code",
   "execution_count": 34,
   "metadata": {},
   "outputs": [
    {
     "name": "stdout",
     "output_type": "stream",
     "text": [
      "+-------------+--------+-----------------+-----------------+-------------+----------+\n",
      "|      BORO_NM|count(1)|max(CMPLNT_FR_DT)|min(CMPLNT_FR_DT)|      Borough|Population|\n",
      "+-------------+--------+-----------------+-----------------+-------------+----------+\n",
      "|        BRONX| 1209647|       12/31/2016|       01/01/1974|        BRONX|   2717758|\n",
      "|     BROOKLYN| 1666903|       12/31/2016|       01/01/1964|     BROOKLYN|   4970026|\n",
      "|    MANHATTAN| 1331760|       12/31/2016|       01/01/1972|    MANHATTAN|   3123068|\n",
      "|       QUEENS| 1105621|       12/31/2016|       01/01/1948|       QUEENS|   4460101|\n",
      "|STATEN ISLAND|  265641|       12/31/2016|       01/01/1970|STATEN ISLAND|    912458|\n",
      "+-------------+--------+-----------------+-----------------+-------------+----------+\n",
      "\n"
     ]
    }
   ],
   "source": [
    "df.groupBy(f.col(\"BORO_NM\"))\n",
    ".agg(f.count(\"*\"), f.max(\"CMPLNT_FR_DT\"), f.min(\"CMPLNT_FR_DT\"))\n",
    ".join(pop, f.col(\"BORO_NM\") === f.col(\"Borough\"), \"inner\")\n",
    ".show()"
   ]
  },
  {
   "cell_type": "code",
   "execution_count": 35,
   "metadata": {},
   "outputs": [],
   "source": [
    "df.write.parquet(\"complaints.parquet\")"
   ]
  },
  {
   "cell_type": "code",
   "execution_count": 36,
   "metadata": {},
   "outputs": [
    {
     "data": {
      "text/plain": [
       "\u001b[36mdfp\u001b[39m: \u001b[32mDataFrame\u001b[39m = [CMPLNT_NUM: int, CMPLNT_FR_DT: string ... 22 more fields]"
      ]
     },
     "execution_count": 36,
     "metadata": {},
     "output_type": "execute_result"
    }
   ],
   "source": [
    "val dfp = spark.read.parquet(\"complaints.parquet\")"
   ]
  },
  {
   "cell_type": "code",
   "execution_count": 37,
   "metadata": {},
   "outputs": [
    {
     "data": {
      "text/plain": [
       "\u001b[36mres36\u001b[39m: \u001b[32mLong\u001b[39m = \u001b[32m5580035L\u001b[39m"
      ]
     },
     "execution_count": 37,
     "metadata": {},
     "output_type": "execute_result"
    }
   ],
   "source": [
    "df.count"
   ]
  },
  {
   "cell_type": "code",
   "execution_count": 38,
   "metadata": {},
   "outputs": [
    {
     "data": {
      "text/plain": [
       "\u001b[36mres37\u001b[39m: \u001b[32mLong\u001b[39m = \u001b[32m5580035L\u001b[39m"
      ]
     },
     "execution_count": 38,
     "metadata": {},
     "output_type": "execute_result"
    }
   ],
   "source": [
    "dfp.count"
   ]
  }
 ],
 "metadata": {
  "kernelspec": {
   "display_name": "Scala (2.12.13)",
   "language": "scala",
   "name": "scala212"
  },
  "language_info": {
   "codemirror_mode": "text/x-scala",
   "file_extension": ".sc",
   "mimetype": "text/x-scala",
   "name": "scala",
   "nbconvert_exporter": "script",
   "version": "2.12.13"
  }
 },
 "nbformat": 4,
 "nbformat_minor": 4
}
